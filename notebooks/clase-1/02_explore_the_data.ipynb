{
 "cells": [
  {
   "cell_type": "markdown",
   "metadata": {},
   "source": [
    "# Exploramos los datos"
   ]
  },
  {
   "cell_type": "code",
   "execution_count": 61,
   "metadata": {},
   "outputs": [],
   "source": [
    "#from google.colab import drive\n",
    "\n",
    "#drive.mount('/content/gdrive')"
   ]
  },
  {
   "cell_type": "code",
   "execution_count": 62,
   "metadata": {},
   "outputs": [],
   "source": [
    "from pathlib import Path\n",
    "import matplotlib.pyplot as plt\n",
    "import numpy as np\n",
    "\n",
    "#PATH = Path('/content/gdrive/My Drive/ml-practico/data')\n",
    "PATH = Path('../data/')"
   ]
  },
  {
   "cell_type": "code",
   "execution_count": 63,
   "metadata": {},
   "outputs": [
    {
     "data": {
      "text/plain": [
       "[PosixPath('../data/aclImdb'),\n",
       " PosixPath('../data/aclImdb_v1.tar.gz'),\n",
       " PosixPath('../data/movie_gross.csv'),\n",
       " PosixPath('../data/name.basics.tsv'),\n",
       " PosixPath('../data/title.akas.tsv'),\n",
       " PosixPath('../data/title.basics.tsv'),\n",
       " PosixPath('../data/title.crew.tsv'),\n",
       " PosixPath('../data/title.principals.tsv'),\n",
       " PosixPath('../data/title.ratings.tsv')]"
      ]
     },
     "execution_count": 63,
     "metadata": {},
     "output_type": "execute_result"
    }
   ],
   "source": [
    "list(PATH.glob('*'))"
   ]
  },
  {
   "cell_type": "markdown",
   "metadata": {},
   "source": [
    "# Arrancamos por title basics\n",
    "\n",
    "Ver documentacion de columnas [aca](https://www.imdb.com/interfaces/)"
   ]
  },
  {
   "cell_type": "code",
   "execution_count": 64,
   "metadata": {},
   "outputs": [
    {
     "name": "stderr",
     "output_type": "stream",
     "text": [
      "/usr/lib/python3/dist-packages/IPython/core/interactiveshell.py:3062: DtypeWarning: Columns (5) have mixed types.Specify dtype option on import or set low_memory=False.\n",
      "  has_raised = await self.run_ast_nodes(code_ast.body, cell_name,\n"
     ]
    },
    {
     "data": {
      "text/plain": [
       "7156880"
      ]
     },
     "execution_count": 64,
     "metadata": {},
     "output_type": "execute_result"
    }
   ],
   "source": [
    "import pandas as pd\n",
    "\n",
    "title_basics = pd.read_csv(PATH / 'title.basics.tsv', sep='\\t')\n",
    "len(title_basics)"
   ]
  },
  {
   "cell_type": "markdown",
   "metadata": {},
   "source": [
    "Nos está diciendo que tenemos columnas con tipos mezclados (por ejemplo numero y string).\n",
    "\n",
    "Eso hace que la columa se interprete como string (se muestra como object en pandas)"
   ]
  },
  {
   "cell_type": "code",
   "execution_count": 65,
   "metadata": {},
   "outputs": [
    {
     "data": {
      "text/plain": [
       "tconst            object\n",
       "titleType         object\n",
       "primaryTitle      object\n",
       "originalTitle     object\n",
       "isAdult            int64\n",
       "startYear         object\n",
       "endYear           object\n",
       "runtimeMinutes    object\n",
       "genres            object\n",
       "dtype: object"
      ]
     },
     "execution_count": 65,
     "metadata": {},
     "output_type": "execute_result"
    }
   ],
   "source": [
    "title_basics.dtypes"
   ]
  },
  {
   "cell_type": "markdown",
   "metadata": {},
   "source": [
    "# A ver algunas rows"
   ]
  },
  {
   "cell_type": "code",
   "execution_count": 66,
   "metadata": {},
   "outputs": [
    {
     "data": {
      "text/html": [
       "<div>\n",
       "<style scoped>\n",
       "    .dataframe tbody tr th:only-of-type {\n",
       "        vertical-align: middle;\n",
       "    }\n",
       "\n",
       "    .dataframe tbody tr th {\n",
       "        vertical-align: top;\n",
       "    }\n",
       "\n",
       "    .dataframe thead th {\n",
       "        text-align: right;\n",
       "    }\n",
       "</style>\n",
       "<table border=\"1\" class=\"dataframe\">\n",
       "  <thead>\n",
       "    <tr style=\"text-align: right;\">\n",
       "      <th></th>\n",
       "      <th>tconst</th>\n",
       "      <th>titleType</th>\n",
       "      <th>primaryTitle</th>\n",
       "      <th>originalTitle</th>\n",
       "      <th>isAdult</th>\n",
       "      <th>startYear</th>\n",
       "      <th>endYear</th>\n",
       "      <th>runtimeMinutes</th>\n",
       "      <th>genres</th>\n",
       "    </tr>\n",
       "  </thead>\n",
       "  <tbody>\n",
       "    <tr>\n",
       "      <th>0</th>\n",
       "      <td>tt0000001</td>\n",
       "      <td>short</td>\n",
       "      <td>Carmencita</td>\n",
       "      <td>Carmencita</td>\n",
       "      <td>0</td>\n",
       "      <td>1894</td>\n",
       "      <td>\\N</td>\n",
       "      <td>1</td>\n",
       "      <td>Documentary,Short</td>\n",
       "    </tr>\n",
       "    <tr>\n",
       "      <th>1</th>\n",
       "      <td>tt0000002</td>\n",
       "      <td>short</td>\n",
       "      <td>Le clown et ses chiens</td>\n",
       "      <td>Le clown et ses chiens</td>\n",
       "      <td>0</td>\n",
       "      <td>1892</td>\n",
       "      <td>\\N</td>\n",
       "      <td>5</td>\n",
       "      <td>Animation,Short</td>\n",
       "    </tr>\n",
       "    <tr>\n",
       "      <th>2</th>\n",
       "      <td>tt0000003</td>\n",
       "      <td>short</td>\n",
       "      <td>Pauvre Pierrot</td>\n",
       "      <td>Pauvre Pierrot</td>\n",
       "      <td>0</td>\n",
       "      <td>1892</td>\n",
       "      <td>\\N</td>\n",
       "      <td>4</td>\n",
       "      <td>Animation,Comedy,Romance</td>\n",
       "    </tr>\n",
       "    <tr>\n",
       "      <th>3</th>\n",
       "      <td>tt0000004</td>\n",
       "      <td>short</td>\n",
       "      <td>Un bon bock</td>\n",
       "      <td>Un bon bock</td>\n",
       "      <td>0</td>\n",
       "      <td>1892</td>\n",
       "      <td>\\N</td>\n",
       "      <td>12</td>\n",
       "      <td>Animation,Short</td>\n",
       "    </tr>\n",
       "    <tr>\n",
       "      <th>4</th>\n",
       "      <td>tt0000005</td>\n",
       "      <td>short</td>\n",
       "      <td>Blacksmith Scene</td>\n",
       "      <td>Blacksmith Scene</td>\n",
       "      <td>0</td>\n",
       "      <td>1893</td>\n",
       "      <td>\\N</td>\n",
       "      <td>1</td>\n",
       "      <td>Comedy,Short</td>\n",
       "    </tr>\n",
       "  </tbody>\n",
       "</table>\n",
       "</div>"
      ],
      "text/plain": [
       "      tconst titleType            primaryTitle           originalTitle  \\\n",
       "0  tt0000001     short              Carmencita              Carmencita   \n",
       "1  tt0000002     short  Le clown et ses chiens  Le clown et ses chiens   \n",
       "2  tt0000003     short          Pauvre Pierrot          Pauvre Pierrot   \n",
       "3  tt0000004     short             Un bon bock             Un bon bock   \n",
       "4  tt0000005     short        Blacksmith Scene        Blacksmith Scene   \n",
       "\n",
       "   isAdult startYear endYear runtimeMinutes                    genres  \n",
       "0        0      1894      \\N              1         Documentary,Short  \n",
       "1        0      1892      \\N              5           Animation,Short  \n",
       "2        0      1892      \\N              4  Animation,Comedy,Romance  \n",
       "3        0      1892      \\N             12           Animation,Short  \n",
       "4        0      1893      \\N              1              Comedy,Short  "
      ]
     },
     "execution_count": 66,
     "metadata": {},
     "output_type": "execute_result"
    }
   ],
   "source": [
    "title_basics.head()"
   ]
  },
  {
   "cell_type": "markdown",
   "metadata": {},
   "source": [
    "## titleType"
   ]
  },
  {
   "cell_type": "code",
   "execution_count": 67,
   "metadata": {},
   "outputs": [
    {
     "data": {
      "text/plain": [
       "tvEpisode       5139923\n",
       "short            760240\n",
       "movie            560818\n",
       "video            278137\n",
       "tvSeries         192100\n",
       "tvMovie          123363\n",
       "tvMiniSeries      33232\n",
       "tvSpecial         29616\n",
       "videoGame         26291\n",
       "tvShort           13160\n",
       "Name: titleType, dtype: int64"
      ]
     },
     "execution_count": 67,
     "metadata": {},
     "output_type": "execute_result"
    }
   ],
   "source": [
    "title_basics.titleType.value_counts()"
   ]
  },
  {
   "cell_type": "markdown",
   "metadata": {},
   "source": [
    "**Descartamos las series** (no aplican para lo que estamos trabajando ahora)"
   ]
  },
  {
   "cell_type": "code",
   "execution_count": 68,
   "metadata": {},
   "outputs": [
    {
     "data": {
      "text/plain": [
       "991934"
      ]
     },
     "execution_count": 68,
     "metadata": {},
     "output_type": "execute_result"
    }
   ],
   "source": [
    "title_basics = title_basics[\n",
    "    # Dejamos tvSpecial, video y tvMovie por ahora, vamos a ver de que se tratan\n",
    "    ~title_basics.titleType.isin(['tvEpisode', 'tvSeries', 'tvMiniSeries', 'videoGame', 'tvShort', 'short'])\n",
    "]\n",
    "\n",
    "len(title_basics) # vemos con cuanta data nos quedamos"
   ]
  },
  {
   "cell_type": "code",
   "execution_count": 69,
   "metadata": {},
   "outputs": [
    {
     "data": {
      "text/html": [
       "<div>\n",
       "<style scoped>\n",
       "    .dataframe tbody tr th:only-of-type {\n",
       "        vertical-align: middle;\n",
       "    }\n",
       "\n",
       "    .dataframe tbody tr th {\n",
       "        vertical-align: top;\n",
       "    }\n",
       "\n",
       "    .dataframe thead th {\n",
       "        text-align: right;\n",
       "    }\n",
       "</style>\n",
       "<table border=\"1\" class=\"dataframe\">\n",
       "  <thead>\n",
       "    <tr style=\"text-align: right;\">\n",
       "      <th></th>\n",
       "      <th>tconst</th>\n",
       "      <th>titleType</th>\n",
       "      <th>primaryTitle</th>\n",
       "      <th>originalTitle</th>\n",
       "      <th>isAdult</th>\n",
       "      <th>startYear</th>\n",
       "      <th>endYear</th>\n",
       "      <th>runtimeMinutes</th>\n",
       "      <th>genres</th>\n",
       "    </tr>\n",
       "  </thead>\n",
       "  <tbody>\n",
       "    <tr>\n",
       "      <th>8</th>\n",
       "      <td>tt0000009</td>\n",
       "      <td>movie</td>\n",
       "      <td>Miss Jerry</td>\n",
       "      <td>Miss Jerry</td>\n",
       "      <td>0</td>\n",
       "      <td>1894</td>\n",
       "      <td>\\N</td>\n",
       "      <td>45</td>\n",
       "      <td>Romance</td>\n",
       "    </tr>\n",
       "    <tr>\n",
       "      <th>144</th>\n",
       "      <td>tt0000147</td>\n",
       "      <td>movie</td>\n",
       "      <td>The Corbett-Fitzsimmons Fight</td>\n",
       "      <td>The Corbett-Fitzsimmons Fight</td>\n",
       "      <td>0</td>\n",
       "      <td>1897</td>\n",
       "      <td>\\N</td>\n",
       "      <td>20</td>\n",
       "      <td>Documentary,News,Sport</td>\n",
       "    </tr>\n",
       "    <tr>\n",
       "      <th>331</th>\n",
       "      <td>tt0000335</td>\n",
       "      <td>movie</td>\n",
       "      <td>Soldiers of the Cross</td>\n",
       "      <td>Soldiers of the Cross</td>\n",
       "      <td>0</td>\n",
       "      <td>1900</td>\n",
       "      <td>\\N</td>\n",
       "      <td>\\N</td>\n",
       "      <td>Biography,Drama</td>\n",
       "    </tr>\n",
       "    <tr>\n",
       "      <th>498</th>\n",
       "      <td>tt0000502</td>\n",
       "      <td>movie</td>\n",
       "      <td>Bohemios</td>\n",
       "      <td>Bohemios</td>\n",
       "      <td>0</td>\n",
       "      <td>1905</td>\n",
       "      <td>\\N</td>\n",
       "      <td>100</td>\n",
       "      <td>\\N</td>\n",
       "    </tr>\n",
       "    <tr>\n",
       "      <th>570</th>\n",
       "      <td>tt0000574</td>\n",
       "      <td>movie</td>\n",
       "      <td>The Story of the Kelly Gang</td>\n",
       "      <td>The Story of the Kelly Gang</td>\n",
       "      <td>0</td>\n",
       "      <td>1906</td>\n",
       "      <td>\\N</td>\n",
       "      <td>70</td>\n",
       "      <td>Biography,Crime,Drama</td>\n",
       "    </tr>\n",
       "  </tbody>\n",
       "</table>\n",
       "</div>"
      ],
      "text/plain": [
       "        tconst titleType                   primaryTitle  \\\n",
       "8    tt0000009     movie                     Miss Jerry   \n",
       "144  tt0000147     movie  The Corbett-Fitzsimmons Fight   \n",
       "331  tt0000335     movie          Soldiers of the Cross   \n",
       "498  tt0000502     movie                       Bohemios   \n",
       "570  tt0000574     movie    The Story of the Kelly Gang   \n",
       "\n",
       "                     originalTitle  isAdult startYear endYear runtimeMinutes  \\\n",
       "8                       Miss Jerry        0      1894      \\N             45   \n",
       "144  The Corbett-Fitzsimmons Fight        0      1897      \\N             20   \n",
       "331          Soldiers of the Cross        0      1900      \\N             \\N   \n",
       "498                       Bohemios        0      1905      \\N            100   \n",
       "570    The Story of the Kelly Gang        0      1906      \\N             70   \n",
       "\n",
       "                     genres  \n",
       "8                   Romance  \n",
       "144  Documentary,News,Sport  \n",
       "331         Biography,Drama  \n",
       "498                      \\N  \n",
       "570   Biography,Crime,Drama  "
      ]
     },
     "execution_count": 69,
     "metadata": {},
     "output_type": "execute_result"
    }
   ],
   "source": [
    "title_basics.head()"
   ]
  },
  {
   "cell_type": "markdown",
   "metadata": {},
   "source": [
    "## runtimeMinutes"
   ]
  },
  {
   "cell_type": "code",
   "execution_count": 70,
   "metadata": {},
   "outputs": [],
   "source": [
    "# Convertimos runtimeMinutes a float. No se puede tener una columna de tipo int con NaN\n",
    "title_basics.runtimeMinutes = (\n",
    "    title_basics.runtimeMinutes.apply(lambda x: np.nan if x == r'\\N' else x).astype(float)\n",
    ")"
   ]
  },
  {
   "cell_type": "code",
   "execution_count": 71,
   "metadata": {},
   "outputs": [
    {
     "data": {
      "image/png": "[encoded data removed]",
      "text/plain": [
       "<Figure size 432x288 with 1 Axes>"
      ]
     },
     "metadata": {
      "needs_background": "light"
     },
     "output_type": "display_data"
    }
   ],
   "source": [
    "title_basics.runtimeMinutes.dropna().hist();"
   ]
  },
  {
   "cell_type": "markdown",
   "metadata": {},
   "source": [
    "Intentamos hacer un histograma, pero no se ve nada. Parece tener algunos valores muy grandes"
   ]
  },
  {
   "cell_type": "code",
   "execution_count": 72,
   "metadata": {},
   "outputs": [
    {
     "data": {
      "text/html": [
       "<div>\n",
       "<style scoped>\n",
       "    .dataframe tbody tr th:only-of-type {\n",
       "        vertical-align: middle;\n",
       "    }\n",
       "\n",
       "    .dataframe tbody tr th {\n",
       "        vertical-align: top;\n",
       "    }\n",
       "\n",
       "    .dataframe thead th {\n",
       "        text-align: right;\n",
       "    }\n",
       "</style>\n",
       "<table border=\"1\" class=\"dataframe\">\n",
       "  <thead>\n",
       "    <tr style=\"text-align: right;\">\n",
       "      <th></th>\n",
       "      <th>tconst</th>\n",
       "      <th>titleType</th>\n",
       "      <th>primaryTitle</th>\n",
       "      <th>originalTitle</th>\n",
       "      <th>isAdult</th>\n",
       "      <th>startYear</th>\n",
       "      <th>endYear</th>\n",
       "      <th>runtimeMinutes</th>\n",
       "      <th>genres</th>\n",
       "    </tr>\n",
       "  </thead>\n",
       "  <tbody>\n",
       "    <tr>\n",
       "      <th>6380342</th>\n",
       "      <td>tt8273150</td>\n",
       "      <td>movie</td>\n",
       "      <td>Logistics</td>\n",
       "      <td>Logistics</td>\n",
       "      <td>0</td>\n",
       "      <td>2012</td>\n",
       "      <td>\\N</td>\n",
       "      <td>51420.0</td>\n",
       "      <td>Documentary</td>\n",
       "    </tr>\n",
       "    <tr>\n",
       "      <th>2166581</th>\n",
       "      <td>tt12095652</td>\n",
       "      <td>video</td>\n",
       "      <td>The Longest Video on YouTube: 596.5 Hours</td>\n",
       "      <td>The Longest Video on YouTube: 596.5 Hours</td>\n",
       "      <td>0</td>\n",
       "      <td>2011</td>\n",
       "      <td>\\N</td>\n",
       "      <td>35791.0</td>\n",
       "      <td>\\N</td>\n",
       "    </tr>\n",
       "    <tr>\n",
       "      <th>2269937</th>\n",
       "      <td>tt12277054</td>\n",
       "      <td>movie</td>\n",
       "      <td>Carnets Filmés (Liste Complète)</td>\n",
       "      <td>Carnets Filmés (Liste Complète)</td>\n",
       "      <td>0</td>\n",
       "      <td>2019</td>\n",
       "      <td>\\N</td>\n",
       "      <td>28643.0</td>\n",
       "      <td>Documentary</td>\n",
       "    </tr>\n",
       "    <tr>\n",
       "      <th>3861714</th>\n",
       "      <td>tt2659636</td>\n",
       "      <td>movie</td>\n",
       "      <td>Modern Times Forever</td>\n",
       "      <td>Modern Times Forever</td>\n",
       "      <td>0</td>\n",
       "      <td>2011</td>\n",
       "      <td>\\N</td>\n",
       "      <td>14400.0</td>\n",
       "      <td>Documentary</td>\n",
       "    </tr>\n",
       "    <tr>\n",
       "      <th>1943883</th>\n",
       "      <td>tt11707418</td>\n",
       "      <td>tvMovie</td>\n",
       "      <td>Svalbard Minute by Minute</td>\n",
       "      <td>Svalbard minutt for minutt</td>\n",
       "      <td>0</td>\n",
       "      <td>2020</td>\n",
       "      <td>\\N</td>\n",
       "      <td>13319.0</td>\n",
       "      <td>Adventure,Documentary</td>\n",
       "    </tr>\n",
       "  </tbody>\n",
       "</table>\n",
       "</div>"
      ],
      "text/plain": [
       "             tconst titleType                               primaryTitle  \\\n",
       "6380342   tt8273150     movie                                  Logistics   \n",
       "2166581  tt12095652     video  The Longest Video on YouTube: 596.5 Hours   \n",
       "2269937  tt12277054     movie            Carnets Filmés (Liste Complète)   \n",
       "3861714   tt2659636     movie                       Modern Times Forever   \n",
       "1943883  tt11707418   tvMovie                  Svalbard Minute by Minute   \n",
       "\n",
       "                                     originalTitle  isAdult startYear endYear  \\\n",
       "6380342                                  Logistics        0      2012      \\N   \n",
       "2166581  The Longest Video on YouTube: 596.5 Hours        0      2011      \\N   \n",
       "2269937            Carnets Filmés (Liste Complète)        0      2019      \\N   \n",
       "3861714                       Modern Times Forever        0      2011      \\N   \n",
       "1943883                 Svalbard minutt for minutt        0      2020      \\N   \n",
       "\n",
       "         runtimeMinutes                 genres  \n",
       "6380342         51420.0            Documentary  \n",
       "2166581         35791.0                     \\N  \n",
       "2269937         28643.0            Documentary  \n",
       "3861714         14400.0            Documentary  \n",
       "1943883         13319.0  Adventure,Documentary  "
      ]
     },
     "execution_count": 72,
     "metadata": {},
     "output_type": "execute_result"
    }
   ],
   "source": [
    "title_basics.sort_values('runtimeMinutes', ascending=False).head()"
   ]
  },
  {
   "cell_type": "markdown",
   "metadata": {},
   "source": [
    "Efectivamente hay valores enormes. runtimeMinutes = 13319 quiere decir 221 horas!!!!"
   ]
  },
  {
   "cell_type": "markdown",
   "metadata": {},
   "source": [
    "**Cuantas peliculas de mas de 3 horas hay?**"
   ]
  },
  {
   "cell_type": "code",
   "execution_count": 73,
   "metadata": {},
   "outputs": [
    {
     "data": {
      "text/plain": [
       "0.009139720989501318"
      ]
     },
     "execution_count": 73,
     "metadata": {},
     "output_type": "execute_result"
    }
   ],
   "source": [
    "(title_basics.runtimeMinutes > 3 * 60).sum() / len(title_basics)"
   ]
  },
  {
   "cell_type": "code",
   "execution_count": 74,
   "metadata": {},
   "outputs": [
    {
     "data": {
      "text/html": [
       "<div>\n",
       "<style scoped>\n",
       "    .dataframe tbody tr th:only-of-type {\n",
       "        vertical-align: middle;\n",
       "    }\n",
       "\n",
       "    .dataframe tbody tr th {\n",
       "        vertical-align: top;\n",
       "    }\n",
       "\n",
       "    .dataframe thead th {\n",
       "        text-align: right;\n",
       "    }\n",
       "</style>\n",
       "<table border=\"1\" class=\"dataframe\">\n",
       "  <thead>\n",
       "    <tr style=\"text-align: right;\">\n",
       "      <th></th>\n",
       "      <th>tconst</th>\n",
       "      <th>titleType</th>\n",
       "      <th>primaryTitle</th>\n",
       "      <th>originalTitle</th>\n",
       "      <th>isAdult</th>\n",
       "      <th>startYear</th>\n",
       "      <th>endYear</th>\n",
       "      <th>runtimeMinutes</th>\n",
       "      <th>genres</th>\n",
       "    </tr>\n",
       "  </thead>\n",
       "  <tbody>\n",
       "    <tr>\n",
       "      <th>4382145</th>\n",
       "      <td>tt3874182</td>\n",
       "      <td>movie</td>\n",
       "      <td>The Insignificance of Being Gwendolen</td>\n",
       "      <td>The Insignificance of Being Gwendolen</td>\n",
       "      <td>0</td>\n",
       "      <td>2014</td>\n",
       "      <td>\\N</td>\n",
       "      <td>227.0</td>\n",
       "      <td>Comedy,Romance</td>\n",
       "    </tr>\n",
       "    <tr>\n",
       "      <th>5176109</th>\n",
       "      <td>tt5652594</td>\n",
       "      <td>movie</td>\n",
       "      <td>My Journey Through French Cinema</td>\n",
       "      <td>Voyage à travers le cinéma français</td>\n",
       "      <td>0</td>\n",
       "      <td>2016</td>\n",
       "      <td>\\N</td>\n",
       "      <td>201.0</td>\n",
       "      <td>Documentary</td>\n",
       "    </tr>\n",
       "    <tr>\n",
       "      <th>3869852</th>\n",
       "      <td>tt2679418</td>\n",
       "      <td>movie</td>\n",
       "      <td>Living Neverland: Produce It!</td>\n",
       "      <td>Living Neverland: Produce It!</td>\n",
       "      <td>0</td>\n",
       "      <td>2013</td>\n",
       "      <td>\\N</td>\n",
       "      <td>224.0</td>\n",
       "      <td>Adventure,Documentary,Family</td>\n",
       "    </tr>\n",
       "    <tr>\n",
       "      <th>4509868</th>\n",
       "      <td>tt4159466</td>\n",
       "      <td>video</td>\n",
       "      <td>Anal Galore</td>\n",
       "      <td>Anal Galore</td>\n",
       "      <td>1</td>\n",
       "      <td>2014</td>\n",
       "      <td>\\N</td>\n",
       "      <td>279.0</td>\n",
       "      <td>Adult</td>\n",
       "    </tr>\n",
       "    <tr>\n",
       "      <th>253174</th>\n",
       "      <td>tt0263994</td>\n",
       "      <td>movie</td>\n",
       "      <td>Sri Krishna Thulabharam</td>\n",
       "      <td>Sri Krishna Thulabharam</td>\n",
       "      <td>0</td>\n",
       "      <td>1966</td>\n",
       "      <td>\\N</td>\n",
       "      <td>187.0</td>\n",
       "      <td>Drama,Musical</td>\n",
       "    </tr>\n",
       "    <tr>\n",
       "      <th>246116</th>\n",
       "      <td>tt0256632</td>\n",
       "      <td>movie</td>\n",
       "      <td>Balanagamma</td>\n",
       "      <td>Balanagamma</td>\n",
       "      <td>0</td>\n",
       "      <td>1959</td>\n",
       "      <td>\\N</td>\n",
       "      <td>182.0</td>\n",
       "      <td>Adventure,Drama,Fantasy</td>\n",
       "    </tr>\n",
       "    <tr>\n",
       "      <th>2165656</th>\n",
       "      <td>tt12094038</td>\n",
       "      <td>video</td>\n",
       "      <td>Broen til framtiden 2020</td>\n",
       "      <td>Broen til framtiden 2020</td>\n",
       "      <td>0</td>\n",
       "      <td>2020</td>\n",
       "      <td>\\N</td>\n",
       "      <td>415.0</td>\n",
       "      <td>Talk-Show</td>\n",
       "    </tr>\n",
       "    <tr>\n",
       "      <th>5020814</th>\n",
       "      <td>tt5306836</td>\n",
       "      <td>tvSpecial</td>\n",
       "      <td>Premios Goya 30 edición</td>\n",
       "      <td>Premios Goya 30 edición</td>\n",
       "      <td>0</td>\n",
       "      <td>2016</td>\n",
       "      <td>\\N</td>\n",
       "      <td>190.0</td>\n",
       "      <td>\\N</td>\n",
       "    </tr>\n",
       "    <tr>\n",
       "      <th>4940079</th>\n",
       "      <td>tt5124708</td>\n",
       "      <td>video</td>\n",
       "      <td>Big Tit Bombshells</td>\n",
       "      <td>Big Tit Bombshells</td>\n",
       "      <td>1</td>\n",
       "      <td>2015</td>\n",
       "      <td>\\N</td>\n",
       "      <td>248.0</td>\n",
       "      <td>Adult</td>\n",
       "    </tr>\n",
       "    <tr>\n",
       "      <th>4836897</th>\n",
       "      <td>tt4893314</td>\n",
       "      <td>video</td>\n",
       "      <td>ATK Solo Sensations 1</td>\n",
       "      <td>ATK Solo Sensations 1</td>\n",
       "      <td>1</td>\n",
       "      <td>2010</td>\n",
       "      <td>\\N</td>\n",
       "      <td>185.0</td>\n",
       "      <td>Adult</td>\n",
       "    </tr>\n",
       "    <tr>\n",
       "      <th>4789624</th>\n",
       "      <td>tt4787012</td>\n",
       "      <td>movie</td>\n",
       "      <td>Sacar Una Foto</td>\n",
       "      <td>Sacar Una Foto</td>\n",
       "      <td>0</td>\n",
       "      <td>2015</td>\n",
       "      <td>\\N</td>\n",
       "      <td>248.0</td>\n",
       "      <td>Adventure,Drama</td>\n",
       "    </tr>\n",
       "    <tr>\n",
       "      <th>76330</th>\n",
       "      <td>tt0077941</td>\n",
       "      <td>movie</td>\n",
       "      <td>Molière</td>\n",
       "      <td>Molière</td>\n",
       "      <td>0</td>\n",
       "      <td>1978</td>\n",
       "      <td>\\N</td>\n",
       "      <td>260.0</td>\n",
       "      <td>Biography,Drama,History</td>\n",
       "    </tr>\n",
       "    <tr>\n",
       "      <th>4273816</th>\n",
       "      <td>tt3628124</td>\n",
       "      <td>video</td>\n",
       "      <td>Ground Zero to Razor Wire</td>\n",
       "      <td>Ground Zero to Razor Wire</td>\n",
       "      <td>0</td>\n",
       "      <td>2005</td>\n",
       "      <td>\\N</td>\n",
       "      <td>270.0</td>\n",
       "      <td>Family</td>\n",
       "    </tr>\n",
       "    <tr>\n",
       "      <th>453682</th>\n",
       "      <td>tt0471614</td>\n",
       "      <td>tvMovie</td>\n",
       "      <td>Cheating Death, Stealing Life: The Eddie Guerr...</td>\n",
       "      <td>Cheating Death, Stealing Life: The Eddie Guerr...</td>\n",
       "      <td>0</td>\n",
       "      <td>2004</td>\n",
       "      <td>\\N</td>\n",
       "      <td>360.0</td>\n",
       "      <td>Biography,Documentary,Sport</td>\n",
       "    </tr>\n",
       "    <tr>\n",
       "      <th>5862782</th>\n",
       "      <td>tt7166370</td>\n",
       "      <td>video</td>\n",
       "      <td>Gigl-300</td>\n",
       "      <td>Gigl-300</td>\n",
       "      <td>1</td>\n",
       "      <td>2016</td>\n",
       "      <td>\\N</td>\n",
       "      <td>239.0</td>\n",
       "      <td>Adult</td>\n",
       "    </tr>\n",
       "    <tr>\n",
       "      <th>94532</th>\n",
       "      <td>tt0096634</td>\n",
       "      <td>tvMovie</td>\n",
       "      <td>Der Leibwächter</td>\n",
       "      <td>Der Leibwächter</td>\n",
       "      <td>0</td>\n",
       "      <td>1989</td>\n",
       "      <td>\\N</td>\n",
       "      <td>210.0</td>\n",
       "      <td>Crime,Drama,Thriller</td>\n",
       "    </tr>\n",
       "    <tr>\n",
       "      <th>48151</th>\n",
       "      <td>tt0049017</td>\n",
       "      <td>movie</td>\n",
       "      <td>Blazing the Overland Trail</td>\n",
       "      <td>Blazing the Overland Trail</td>\n",
       "      <td>0</td>\n",
       "      <td>1956</td>\n",
       "      <td>\\N</td>\n",
       "      <td>239.0</td>\n",
       "      <td>Action,Adventure,Western</td>\n",
       "    </tr>\n",
       "    <tr>\n",
       "      <th>235230</th>\n",
       "      <td>tt0245209</td>\n",
       "      <td>movie</td>\n",
       "      <td>The Dialogues with Solzhenitsyn</td>\n",
       "      <td>Uzel</td>\n",
       "      <td>0</td>\n",
       "      <td>1998</td>\n",
       "      <td>\\N</td>\n",
       "      <td>188.0</td>\n",
       "      <td>Documentary</td>\n",
       "    </tr>\n",
       "    <tr>\n",
       "      <th>20177</th>\n",
       "      <td>tt0020481</td>\n",
       "      <td>movie</td>\n",
       "      <td>Tarzan the Tiger</td>\n",
       "      <td>Tarzan the Tiger</td>\n",
       "      <td>0</td>\n",
       "      <td>1929</td>\n",
       "      <td>\\N</td>\n",
       "      <td>266.0</td>\n",
       "      <td>Action,Adventure</td>\n",
       "    </tr>\n",
       "    <tr>\n",
       "      <th>1254347</th>\n",
       "      <td>tt10501212</td>\n",
       "      <td>video</td>\n",
       "      <td>Dream Pairings: Chapter Two</td>\n",
       "      <td>Dream Pairings: Chapter Two</td>\n",
       "      <td>1</td>\n",
       "      <td>2017</td>\n",
       "      <td>\\N</td>\n",
       "      <td>232.0</td>\n",
       "      <td>Adult,Crime,Drama</td>\n",
       "    </tr>\n",
       "  </tbody>\n",
       "</table>\n",
       "</div>"
      ],
      "text/plain": [
       "             tconst  titleType  \\\n",
       "4382145   tt3874182      movie   \n",
       "5176109   tt5652594      movie   \n",
       "3869852   tt2679418      movie   \n",
       "4509868   tt4159466      video   \n",
       "253174    tt0263994      movie   \n",
       "246116    tt0256632      movie   \n",
       "2165656  tt12094038      video   \n",
       "5020814   tt5306836  tvSpecial   \n",
       "4940079   tt5124708      video   \n",
       "4836897   tt4893314      video   \n",
       "4789624   tt4787012      movie   \n",
       "76330     tt0077941      movie   \n",
       "4273816   tt3628124      video   \n",
       "453682    tt0471614    tvMovie   \n",
       "5862782   tt7166370      video   \n",
       "94532     tt0096634    tvMovie   \n",
       "48151     tt0049017      movie   \n",
       "235230    tt0245209      movie   \n",
       "20177     tt0020481      movie   \n",
       "1254347  tt10501212      video   \n",
       "\n",
       "                                              primaryTitle  \\\n",
       "4382145              The Insignificance of Being Gwendolen   \n",
       "5176109                   My Journey Through French Cinema   \n",
       "3869852                      Living Neverland: Produce It!   \n",
       "4509868                                        Anal Galore   \n",
       "253174                             Sri Krishna Thulabharam   \n",
       "246116                                         Balanagamma   \n",
       "2165656                           Broen til framtiden 2020   \n",
       "5020814                            Premios Goya 30 edición   \n",
       "4940079                                 Big Tit Bombshells   \n",
       "4836897                              ATK Solo Sensations 1   \n",
       "4789624                                     Sacar Una Foto   \n",
       "76330                                              Molière   \n",
       "4273816                          Ground Zero to Razor Wire   \n",
       "453682   Cheating Death, Stealing Life: The Eddie Guerr...   \n",
       "5862782                                           Gigl-300   \n",
       "94532                                      Der Leibwächter   \n",
       "48151                           Blazing the Overland Trail   \n",
       "235230                     The Dialogues with Solzhenitsyn   \n",
       "20177                                     Tarzan the Tiger   \n",
       "1254347                        Dream Pairings: Chapter Two   \n",
       "\n",
       "                                             originalTitle  isAdult startYear  \\\n",
       "4382145              The Insignificance of Being Gwendolen        0      2014   \n",
       "5176109                Voyage à travers le cinéma français        0      2016   \n",
       "3869852                      Living Neverland: Produce It!        0      2013   \n",
       "4509868                                        Anal Galore        1      2014   \n",
       "253174                             Sri Krishna Thulabharam        0      1966   \n",
       "246116                                         Balanagamma        0      1959   \n",
       "2165656                           Broen til framtiden 2020        0      2020   \n",
       "5020814                            Premios Goya 30 edición        0      2016   \n",
       "4940079                                 Big Tit Bombshells        1      2015   \n",
       "4836897                              ATK Solo Sensations 1        1      2010   \n",
       "4789624                                     Sacar Una Foto        0      2015   \n",
       "76330                                              Molière        0      1978   \n",
       "4273816                          Ground Zero to Razor Wire        0      2005   \n",
       "453682   Cheating Death, Stealing Life: The Eddie Guerr...        0      2004   \n",
       "5862782                                           Gigl-300        1      2016   \n",
       "94532                                      Der Leibwächter        0      1989   \n",
       "48151                           Blazing the Overland Trail        0      1956   \n",
       "235230                                                Uzel        0      1998   \n",
       "20177                                     Tarzan the Tiger        0      1929   \n",
       "1254347                        Dream Pairings: Chapter Two        1      2017   \n",
       "\n",
       "        endYear  runtimeMinutes                        genres  \n",
       "4382145      \\N           227.0                Comedy,Romance  \n",
       "5176109      \\N           201.0                   Documentary  \n",
       "3869852      \\N           224.0  Adventure,Documentary,Family  \n",
       "4509868      \\N           279.0                         Adult  \n",
       "253174       \\N           187.0                 Drama,Musical  \n",
       "246116       \\N           182.0       Adventure,Drama,Fantasy  \n",
       "2165656      \\N           415.0                     Talk-Show  \n",
       "5020814      \\N           190.0                            \\N  \n",
       "4940079      \\N           248.0                         Adult  \n",
       "4836897      \\N           185.0                         Adult  \n",
       "4789624      \\N           248.0               Adventure,Drama  \n",
       "76330        \\N           260.0       Biography,Drama,History  \n",
       "4273816      \\N           270.0                        Family  \n",
       "453682       \\N           360.0   Biography,Documentary,Sport  \n",
       "5862782      \\N           239.0                         Adult  \n",
       "94532        \\N           210.0          Crime,Drama,Thriller  \n",
       "48151        \\N           239.0      Action,Adventure,Western  \n",
       "235230       \\N           188.0                   Documentary  \n",
       "20177        \\N           266.0              Action,Adventure  \n",
       "1254347      \\N           232.0             Adult,Crime,Drama  "
      ]
     },
     "execution_count": 74,
     "metadata": {},
     "output_type": "execute_result"
    }
   ],
   "source": [
    "# Un 0.9%, a ver algunas...\n",
    "\n",
    "title_basics[title_basics.runtimeMinutes > 3 * 60].sample(20)"
   ]
  },
  {
   "cell_type": "markdown",
   "metadata": {},
   "source": [
    "**Parece haber muchos video**"
   ]
  },
  {
   "cell_type": "code",
   "execution_count": 75,
   "metadata": {},
   "outputs": [
    {
     "data": {
      "text/plain": [
       "video        5122\n",
       "movie        1999\n",
       "tvMovie      1151\n",
       "tvSpecial     794\n",
       "Name: titleType, dtype: int64"
      ]
     },
     "execution_count": 75,
     "metadata": {},
     "output_type": "execute_result"
    }
   ],
   "source": [
    "title_basics[title_basics.runtimeMinutes > 3 * 60].titleType.value_counts()"
   ]
  },
  {
   "cell_type": "markdown",
   "metadata": {},
   "source": [
    "**Pareciera que hay muchos videos, tvMovie y tvSpecial**\n",
    "\n",
    "Por otro lado, alguna de estas estará en la base de datos de grossing? Ya que estamos, tambien podemos juntarla con la de ratings"
   ]
  },
  {
   "cell_type": "markdown",
   "metadata": {},
   "source": [
    "### Merges para ver una foto mas completa"
   ]
  },
  {
   "cell_type": "code",
   "execution_count": 76,
   "metadata": {},
   "outputs": [],
   "source": [
    "movie_gross = pd.read_csv(PATH / 'movie_gross.csv')"
   ]
  },
  {
   "cell_type": "code",
   "execution_count": 77,
   "metadata": {},
   "outputs": [
    {
     "data": {
      "text/html": [
       "<div>\n",
       "<style scoped>\n",
       "    .dataframe tbody tr th:only-of-type {\n",
       "        vertical-align: middle;\n",
       "    }\n",
       "\n",
       "    .dataframe tbody tr th {\n",
       "        vertical-align: top;\n",
       "    }\n",
       "\n",
       "    .dataframe thead th {\n",
       "        text-align: right;\n",
       "    }\n",
       "</style>\n",
       "<table border=\"1\" class=\"dataframe\">\n",
       "  <thead>\n",
       "    <tr style=\"text-align: right;\">\n",
       "      <th></th>\n",
       "      <th>color</th>\n",
       "      <th>director_name</th>\n",
       "      <th>num_critic_for_reviews</th>\n",
       "      <th>duration</th>\n",
       "      <th>director_facebook_likes</th>\n",
       "      <th>actor_3_facebook_likes</th>\n",
       "      <th>actor_2_name</th>\n",
       "      <th>actor_1_facebook_likes</th>\n",
       "      <th>gross</th>\n",
       "      <th>genres</th>\n",
       "      <th>...</th>\n",
       "      <th>num_user_for_reviews</th>\n",
       "      <th>language</th>\n",
       "      <th>country</th>\n",
       "      <th>content_rating</th>\n",
       "      <th>budget</th>\n",
       "      <th>title_year</th>\n",
       "      <th>actor_2_facebook_likes</th>\n",
       "      <th>imdb_score</th>\n",
       "      <th>aspect_ratio</th>\n",
       "      <th>movie_facebook_likes</th>\n",
       "    </tr>\n",
       "  </thead>\n",
       "  <tbody>\n",
       "    <tr>\n",
       "      <th>0</th>\n",
       "      <td>Color</td>\n",
       "      <td>James Cameron</td>\n",
       "      <td>723.0</td>\n",
       "      <td>178.0</td>\n",
       "      <td>0.0</td>\n",
       "      <td>855.0</td>\n",
       "      <td>Joel David Moore</td>\n",
       "      <td>1000.0</td>\n",
       "      <td>760505847.0</td>\n",
       "      <td>Action|Adventure|Fantasy|Sci-Fi</td>\n",
       "      <td>...</td>\n",
       "      <td>3054.0</td>\n",
       "      <td>English</td>\n",
       "      <td>USA</td>\n",
       "      <td>PG-13</td>\n",
       "      <td>237000000.0</td>\n",
       "      <td>2009.0</td>\n",
       "      <td>936.0</td>\n",
       "      <td>7.9</td>\n",
       "      <td>1.78</td>\n",
       "      <td>33000</td>\n",
       "    </tr>\n",
       "    <tr>\n",
       "      <th>1</th>\n",
       "      <td>Color</td>\n",
       "      <td>Gore Verbinski</td>\n",
       "      <td>302.0</td>\n",
       "      <td>169.0</td>\n",
       "      <td>563.0</td>\n",
       "      <td>1000.0</td>\n",
       "      <td>Orlando Bloom</td>\n",
       "      <td>40000.0</td>\n",
       "      <td>309404152.0</td>\n",
       "      <td>Action|Adventure|Fantasy</td>\n",
       "      <td>...</td>\n",
       "      <td>1238.0</td>\n",
       "      <td>English</td>\n",
       "      <td>USA</td>\n",
       "      <td>PG-13</td>\n",
       "      <td>300000000.0</td>\n",
       "      <td>2007.0</td>\n",
       "      <td>5000.0</td>\n",
       "      <td>7.1</td>\n",
       "      <td>2.35</td>\n",
       "      <td>0</td>\n",
       "    </tr>\n",
       "    <tr>\n",
       "      <th>2</th>\n",
       "      <td>Color</td>\n",
       "      <td>Sam Mendes</td>\n",
       "      <td>602.0</td>\n",
       "      <td>148.0</td>\n",
       "      <td>0.0</td>\n",
       "      <td>161.0</td>\n",
       "      <td>Rory Kinnear</td>\n",
       "      <td>11000.0</td>\n",
       "      <td>200074175.0</td>\n",
       "      <td>Action|Adventure|Thriller</td>\n",
       "      <td>...</td>\n",
       "      <td>994.0</td>\n",
       "      <td>English</td>\n",
       "      <td>UK</td>\n",
       "      <td>PG-13</td>\n",
       "      <td>245000000.0</td>\n",
       "      <td>2015.0</td>\n",
       "      <td>393.0</td>\n",
       "      <td>6.8</td>\n",
       "      <td>2.35</td>\n",
       "      <td>85000</td>\n",
       "    </tr>\n",
       "    <tr>\n",
       "      <th>3</th>\n",
       "      <td>Color</td>\n",
       "      <td>Christopher Nolan</td>\n",
       "      <td>813.0</td>\n",
       "      <td>164.0</td>\n",
       "      <td>22000.0</td>\n",
       "      <td>23000.0</td>\n",
       "      <td>Christian Bale</td>\n",
       "      <td>27000.0</td>\n",
       "      <td>448130642.0</td>\n",
       "      <td>Action|Thriller</td>\n",
       "      <td>...</td>\n",
       "      <td>2701.0</td>\n",
       "      <td>English</td>\n",
       "      <td>USA</td>\n",
       "      <td>PG-13</td>\n",
       "      <td>250000000.0</td>\n",
       "      <td>2012.0</td>\n",
       "      <td>23000.0</td>\n",
       "      <td>8.5</td>\n",
       "      <td>2.35</td>\n",
       "      <td>164000</td>\n",
       "    </tr>\n",
       "    <tr>\n",
       "      <th>4</th>\n",
       "      <td>NaN</td>\n",
       "      <td>Doug Walker</td>\n",
       "      <td>NaN</td>\n",
       "      <td>NaN</td>\n",
       "      <td>131.0</td>\n",
       "      <td>NaN</td>\n",
       "      <td>Rob Walker</td>\n",
       "      <td>131.0</td>\n",
       "      <td>NaN</td>\n",
       "      <td>Documentary</td>\n",
       "      <td>...</td>\n",
       "      <td>NaN</td>\n",
       "      <td>NaN</td>\n",
       "      <td>NaN</td>\n",
       "      <td>NaN</td>\n",
       "      <td>NaN</td>\n",
       "      <td>NaN</td>\n",
       "      <td>12.0</td>\n",
       "      <td>7.1</td>\n",
       "      <td>NaN</td>\n",
       "      <td>0</td>\n",
       "    </tr>\n",
       "  </tbody>\n",
       "</table>\n",
       "<p>5 rows × 28 columns</p>\n",
       "</div>"
      ],
      "text/plain": [
       "   color      director_name  num_critic_for_reviews  duration  \\\n",
       "0  Color      James Cameron                   723.0     178.0   \n",
       "1  Color     Gore Verbinski                   302.0     169.0   \n",
       "2  Color         Sam Mendes                   602.0     148.0   \n",
       "3  Color  Christopher Nolan                   813.0     164.0   \n",
       "4    NaN        Doug Walker                     NaN       NaN   \n",
       "\n",
       "   director_facebook_likes  actor_3_facebook_likes      actor_2_name  \\\n",
       "0                      0.0                   855.0  Joel David Moore   \n",
       "1                    563.0                  1000.0     Orlando Bloom   \n",
       "2                      0.0                   161.0      Rory Kinnear   \n",
       "3                  22000.0                 23000.0    Christian Bale   \n",
       "4                    131.0                     NaN        Rob Walker   \n",
       "\n",
       "   actor_1_facebook_likes        gross                           genres  ...  \\\n",
       "0                  1000.0  760505847.0  Action|Adventure|Fantasy|Sci-Fi  ...   \n",
       "1                 40000.0  309404152.0         Action|Adventure|Fantasy  ...   \n",
       "2                 11000.0  200074175.0        Action|Adventure|Thriller  ...   \n",
       "3                 27000.0  448130642.0                  Action|Thriller  ...   \n",
       "4                   131.0          NaN                      Documentary  ...   \n",
       "\n",
       "  num_user_for_reviews language  country  content_rating       budget  \\\n",
       "0               3054.0  English      USA           PG-13  237000000.0   \n",
       "1               1238.0  English      USA           PG-13  300000000.0   \n",
       "2                994.0  English       UK           PG-13  245000000.0   \n",
       "3               2701.0  English      USA           PG-13  250000000.0   \n",
       "4                  NaN      NaN      NaN             NaN          NaN   \n",
       "\n",
       "   title_year actor_2_facebook_likes imdb_score  aspect_ratio  \\\n",
       "0      2009.0                  936.0        7.9          1.78   \n",
       "1      2007.0                 5000.0        7.1          2.35   \n",
       "2      2015.0                  393.0        6.8          2.35   \n",
       "3      2012.0                23000.0        8.5          2.35   \n",
       "4         NaN                   12.0        7.1           NaN   \n",
       "\n",
       "  movie_facebook_likes  \n",
       "0                33000  \n",
       "1                    0  \n",
       "2                85000  \n",
       "3               164000  \n",
       "4                    0  \n",
       "\n",
       "[5 rows x 28 columns]"
      ]
     },
     "execution_count": 77,
     "metadata": {},
     "output_type": "execute_result"
    }
   ],
   "source": [
    "movie_gross.head()"
   ]
  },
  {
   "cell_type": "code",
   "execution_count": 78,
   "metadata": {},
   "outputs": [
    {
     "data": {
      "text/plain": [
       "Index(['color', 'director_name', 'num_critic_for_reviews', 'duration',\n",
       "       'director_facebook_likes', 'actor_3_facebook_likes', 'actor_2_name',\n",
       "       'actor_1_facebook_likes', 'gross', 'genres', 'actor_1_name',\n",
       "       'movie_title', 'num_voted_users', 'cast_total_facebook_likes',\n",
       "       'actor_3_name', 'facenumber_in_poster', 'plot_keywords',\n",
       "       'movie_imdb_link', 'num_user_for_reviews', 'language', 'country',\n",
       "       'content_rating', 'budget', 'title_year', 'actor_2_facebook_likes',\n",
       "       'imdb_score', 'aspect_ratio', 'movie_facebook_likes'],\n",
       "      dtype='object')"
      ]
     },
     "execution_count": 78,
     "metadata": {},
     "output_type": "execute_result"
    }
   ],
   "source": [
    "movie_gross.columns"
   ]
  },
  {
   "cell_type": "code",
   "execution_count": 79,
   "metadata": {},
   "outputs": [
    {
     "data": {
      "text/plain": [
       "0    http://www.imdb.com/title/tt0499549/?ref_=fn_t...\n",
       "1    http://www.imdb.com/title/tt0449088/?ref_=fn_t...\n",
       "2    http://www.imdb.com/title/tt2379713/?ref_=fn_t...\n",
       "3    http://www.imdb.com/title/tt1345836/?ref_=fn_t...\n",
       "4    http://www.imdb.com/title/tt5289954/?ref_=fn_t...\n",
       "Name: movie_imdb_link, dtype: object"
      ]
     },
     "execution_count": 79,
     "metadata": {},
     "output_type": "execute_result"
    }
   ],
   "source": [
    "# No tenemos el id, pero tenemos el link\n",
    "movie_gross.movie_imdb_link.head()"
   ]
  },
  {
   "cell_type": "code",
   "execution_count": 80,
   "metadata": {},
   "outputs": [],
   "source": [
    "movie_gross['tconst'] = movie_gross.movie_imdb_link.apply(lambda x: x.split('/')[4])"
   ]
  },
  {
   "cell_type": "code",
   "execution_count": 81,
   "metadata": {},
   "outputs": [],
   "source": [
    "# A priori solo nos interesa el tconst y el gross\n",
    "\n",
    "movie_gross = movie_gross[['tconst', 'gross']]"
   ]
  },
  {
   "cell_type": "code",
   "execution_count": 82,
   "metadata": {},
   "outputs": [],
   "source": [
    "movies = title_basics.merge(movie_gross, on='tconst')"
   ]
  },
  {
   "cell_type": "code",
   "execution_count": 83,
   "metadata": {},
   "outputs": [
    {
     "data": {
      "text/plain": [
       "(4926, 5043, 991934)"
      ]
     },
     "execution_count": 83,
     "metadata": {},
     "output_type": "execute_result"
    }
   ],
   "source": [
    "# Checkeamos no perder datos\n",
    "len(movies), len(movie_gross), len(title_basics)"
   ]
  },
  {
   "cell_type": "code",
   "execution_count": 84,
   "metadata": {},
   "outputs": [],
   "source": [
    "# Perdemos un monton!!!!\n",
    "\n",
    "movies = title_basics.merge(movie_gross, on='tconst', how='left')"
   ]
  },
  {
   "cell_type": "code",
   "execution_count": 85,
   "metadata": {},
   "outputs": [
    {
     "data": {
      "text/plain": [
       "(992056, 5043, 991934)"
      ]
     },
     "execution_count": 85,
     "metadata": {},
     "output_type": "execute_result"
    }
   ],
   "source": [
    "len(movies), len(movie_gross), len(title_basics)"
   ]
  },
  {
   "cell_type": "code",
   "execution_count": 86,
   "metadata": {},
   "outputs": [
    {
     "data": {
      "text/plain": [
       "tt2638144    3\n",
       "tt3332064    3\n",
       "tt2224026    3\n",
       "tt0232500    3\n",
       "tt0360717    3\n",
       "tt0077651    3\n",
       "tt1976009    3\n",
       "tt0299977    2\n",
       "tt0918940    2\n",
       "tt0425210    2\n",
       "Name: tconst, dtype: int64"
      ]
     },
     "execution_count": 86,
     "metadata": {},
     "output_type": "execute_result"
    }
   ],
   "source": [
    "# Pareciera haber repetidos en movie_gross....\n",
    "\n",
    "repeated = movie_gross.tconst.value_counts().sort_values(ascending=False).head(10)\n",
    "repeated"
   ]
  },
  {
   "cell_type": "code",
   "execution_count": 87,
   "metadata": {},
   "outputs": [
    {
     "data": {
      "text/html": [
       "<div>\n",
       "<style scoped>\n",
       "    .dataframe tbody tr th:only-of-type {\n",
       "        vertical-align: middle;\n",
       "    }\n",
       "\n",
       "    .dataframe tbody tr th {\n",
       "        vertical-align: top;\n",
       "    }\n",
       "\n",
       "    .dataframe thead th {\n",
       "        text-align: right;\n",
       "    }\n",
       "</style>\n",
       "<table border=\"1\" class=\"dataframe\">\n",
       "  <thead>\n",
       "    <tr style=\"text-align: right;\">\n",
       "      <th></th>\n",
       "      <th>tconst</th>\n",
       "      <th>gross</th>\n",
       "    </tr>\n",
       "  </thead>\n",
       "  <tbody>\n",
       "    <tr>\n",
       "      <th>4821</th>\n",
       "      <td>tt0077651</td>\n",
       "      <td>47000000.0</td>\n",
       "    </tr>\n",
       "    <tr>\n",
       "      <th>2619</th>\n",
       "      <td>tt0077651</td>\n",
       "      <td>47000000.0</td>\n",
       "    </tr>\n",
       "    <tr>\n",
       "      <th>2492</th>\n",
       "      <td>tt0077651</td>\n",
       "      <td>47000000.0</td>\n",
       "    </tr>\n",
       "    <tr>\n",
       "      <th>100</th>\n",
       "      <td>tt0232500</td>\n",
       "      <td>144512310.0</td>\n",
       "    </tr>\n",
       "    <tr>\n",
       "      <th>1332</th>\n",
       "      <td>tt0232500</td>\n",
       "      <td>144512310.0</td>\n",
       "    </tr>\n",
       "    <tr>\n",
       "      <th>395</th>\n",
       "      <td>tt0232500</td>\n",
       "      <td>144512310.0</td>\n",
       "    </tr>\n",
       "    <tr>\n",
       "      <th>2493</th>\n",
       "      <td>tt0299977</td>\n",
       "      <td>84961.0</td>\n",
       "    </tr>\n",
       "    <tr>\n",
       "      <th>1171</th>\n",
       "      <td>tt0299977</td>\n",
       "      <td>84961.0</td>\n",
       "    </tr>\n",
       "    <tr>\n",
       "      <th>4694</th>\n",
       "      <td>tt0360717</td>\n",
       "      <td>218051260.0</td>\n",
       "    </tr>\n",
       "    <tr>\n",
       "      <th>2049</th>\n",
       "      <td>tt0360717</td>\n",
       "      <td>218051260.0</td>\n",
       "    </tr>\n",
       "    <tr>\n",
       "      <th>25</th>\n",
       "      <td>tt0360717</td>\n",
       "      <td>218051260.0</td>\n",
       "    </tr>\n",
       "    <tr>\n",
       "      <th>4493</th>\n",
       "      <td>tt0425210</td>\n",
       "      <td>22494487.0</td>\n",
       "    </tr>\n",
       "    <tr>\n",
       "      <th>1812</th>\n",
       "      <td>tt0425210</td>\n",
       "      <td>22494487.0</td>\n",
       "    </tr>\n",
       "    <tr>\n",
       "      <th>137</th>\n",
       "      <td>tt0918940</td>\n",
       "      <td>124051759.0</td>\n",
       "    </tr>\n",
       "    <tr>\n",
       "      <th>63</th>\n",
       "      <td>tt0918940</td>\n",
       "      <td>124051759.0</td>\n",
       "    </tr>\n",
       "    <tr>\n",
       "      <th>1305</th>\n",
       "      <td>tt1976009</td>\n",
       "      <td>5773519.0</td>\n",
       "    </tr>\n",
       "    <tr>\n",
       "      <th>2099</th>\n",
       "      <td>tt1976009</td>\n",
       "      <td>5773519.0</td>\n",
       "    </tr>\n",
       "    <tr>\n",
       "      <th>1146</th>\n",
       "      <td>tt1976009</td>\n",
       "      <td>5773519.0</td>\n",
       "    </tr>\n",
       "    <tr>\n",
       "      <th>4752</th>\n",
       "      <td>tt2224026</td>\n",
       "      <td>177343675.0</td>\n",
       "    </tr>\n",
       "    <tr>\n",
       "      <th>188</th>\n",
       "      <td>tt2224026</td>\n",
       "      <td>177343675.0</td>\n",
       "    </tr>\n",
       "  </tbody>\n",
       "</table>\n",
       "</div>"
      ],
      "text/plain": [
       "         tconst        gross\n",
       "4821  tt0077651   47000000.0\n",
       "2619  tt0077651   47000000.0\n",
       "2492  tt0077651   47000000.0\n",
       "100   tt0232500  144512310.0\n",
       "1332  tt0232500  144512310.0\n",
       "395   tt0232500  144512310.0\n",
       "2493  tt0299977      84961.0\n",
       "1171  tt0299977      84961.0\n",
       "4694  tt0360717  218051260.0\n",
       "2049  tt0360717  218051260.0\n",
       "25    tt0360717  218051260.0\n",
       "4493  tt0425210   22494487.0\n",
       "1812  tt0425210   22494487.0\n",
       "137   tt0918940  124051759.0\n",
       "63    tt0918940  124051759.0\n",
       "1305  tt1976009    5773519.0\n",
       "2099  tt1976009    5773519.0\n",
       "1146  tt1976009    5773519.0\n",
       "4752  tt2224026  177343675.0\n",
       "188   tt2224026  177343675.0"
      ]
     },
     "execution_count": 87,
     "metadata": {},
     "output_type": "execute_result"
    }
   ],
   "source": [
    "movie_gross[movie_gross.tconst.isin(repeated.index.tolist())].sort_values('tconst').head(20)"
   ]
  },
  {
   "cell_type": "code",
   "execution_count": 88,
   "metadata": {},
   "outputs": [
    {
     "data": {
      "text/plain": [
       "gross    1\n",
       "dtype: int64"
      ]
     },
     "execution_count": 88,
     "metadata": {},
     "output_type": "execute_result"
    }
   ],
   "source": [
    "# Pareciera que los repetidos son repetidos de verdad. Vamos a hacer un ultimo check\n",
    "\n",
    "# Vemos la cantidad de valores distintos para \"gross\", para ver si hay valores diferentes\n",
    "movie_gross.groupby('tconst').agg({'gross':'nunique'}).max()"
   ]
  },
  {
   "cell_type": "code",
   "execution_count": 89,
   "metadata": {},
   "outputs": [],
   "source": [
    "# Vamos de deduplicar gross\n",
    "\n",
    "movie_gross = movie_gross.groupby('tconst').gross.max().reset_index()"
   ]
  },
  {
   "cell_type": "code",
   "execution_count": 90,
   "metadata": {},
   "outputs": [
    {
     "data": {
      "text/plain": [
       "(991934, 991934, 4919)"
      ]
     },
     "execution_count": 90,
     "metadata": {},
     "output_type": "execute_result"
    }
   ],
   "source": [
    "movies = title_basics.merge(movie_gross, on='tconst', how='left')\n",
    "\n",
    "len(movies), len(title_basics), len(movie_gross)"
   ]
  },
  {
   "cell_type": "markdown",
   "metadata": {},
   "source": [
    "### Merge con ratings"
   ]
  },
  {
   "cell_type": "code",
   "execution_count": 91,
   "metadata": {},
   "outputs": [],
   "source": [
    "title_ratings = pd.read_csv(PATH / 'title.ratings.tsv', sep='\\t')"
   ]
  },
  {
   "cell_type": "code",
   "execution_count": 92,
   "metadata": {
    "scrolled": true
   },
   "outputs": [
    {
     "data": {
      "text/html": [
       "<div>\n",
       "<style scoped>\n",
       "    .dataframe tbody tr th:only-of-type {\n",
       "        vertical-align: middle;\n",
       "    }\n",
       "\n",
       "    .dataframe tbody tr th {\n",
       "        vertical-align: top;\n",
       "    }\n",
       "\n",
       "    .dataframe thead th {\n",
       "        text-align: right;\n",
       "    }\n",
       "</style>\n",
       "<table border=\"1\" class=\"dataframe\">\n",
       "  <thead>\n",
       "    <tr style=\"text-align: right;\">\n",
       "      <th></th>\n",
       "      <th>tconst</th>\n",
       "      <th>titleType</th>\n",
       "      <th>primaryTitle</th>\n",
       "      <th>originalTitle</th>\n",
       "      <th>isAdult</th>\n",
       "      <th>startYear</th>\n",
       "      <th>endYear</th>\n",
       "      <th>runtimeMinutes</th>\n",
       "      <th>genres</th>\n",
       "      <th>gross</th>\n",
       "      <th>averageRating</th>\n",
       "      <th>numVotes</th>\n",
       "    </tr>\n",
       "  </thead>\n",
       "  <tbody>\n",
       "    <tr>\n",
       "      <th>0</th>\n",
       "      <td>tt0000009</td>\n",
       "      <td>movie</td>\n",
       "      <td>Miss Jerry</td>\n",
       "      <td>Miss Jerry</td>\n",
       "      <td>0</td>\n",
       "      <td>1894</td>\n",
       "      <td>\\N</td>\n",
       "      <td>45.0</td>\n",
       "      <td>Romance</td>\n",
       "      <td>NaN</td>\n",
       "      <td>5.9</td>\n",
       "      <td>154</td>\n",
       "    </tr>\n",
       "    <tr>\n",
       "      <th>1</th>\n",
       "      <td>tt0000147</td>\n",
       "      <td>movie</td>\n",
       "      <td>The Corbett-Fitzsimmons Fight</td>\n",
       "      <td>The Corbett-Fitzsimmons Fight</td>\n",
       "      <td>0</td>\n",
       "      <td>1897</td>\n",
       "      <td>\\N</td>\n",
       "      <td>20.0</td>\n",
       "      <td>Documentary,News,Sport</td>\n",
       "      <td>NaN</td>\n",
       "      <td>5.2</td>\n",
       "      <td>356</td>\n",
       "    </tr>\n",
       "    <tr>\n",
       "      <th>2</th>\n",
       "      <td>tt0000335</td>\n",
       "      <td>movie</td>\n",
       "      <td>Soldiers of the Cross</td>\n",
       "      <td>Soldiers of the Cross</td>\n",
       "      <td>0</td>\n",
       "      <td>1900</td>\n",
       "      <td>\\N</td>\n",
       "      <td>NaN</td>\n",
       "      <td>Biography,Drama</td>\n",
       "      <td>NaN</td>\n",
       "      <td>6.1</td>\n",
       "      <td>41</td>\n",
       "    </tr>\n",
       "    <tr>\n",
       "      <th>3</th>\n",
       "      <td>tt0000502</td>\n",
       "      <td>movie</td>\n",
       "      <td>Bohemios</td>\n",
       "      <td>Bohemios</td>\n",
       "      <td>0</td>\n",
       "      <td>1905</td>\n",
       "      <td>\\N</td>\n",
       "      <td>100.0</td>\n",
       "      <td>\\N</td>\n",
       "      <td>NaN</td>\n",
       "      <td>3.8</td>\n",
       "      <td>6</td>\n",
       "    </tr>\n",
       "    <tr>\n",
       "      <th>4</th>\n",
       "      <td>tt0000574</td>\n",
       "      <td>movie</td>\n",
       "      <td>The Story of the Kelly Gang</td>\n",
       "      <td>The Story of the Kelly Gang</td>\n",
       "      <td>0</td>\n",
       "      <td>1906</td>\n",
       "      <td>\\N</td>\n",
       "      <td>70.0</td>\n",
       "      <td>Biography,Crime,Drama</td>\n",
       "      <td>NaN</td>\n",
       "      <td>6.1</td>\n",
       "      <td>589</td>\n",
       "    </tr>\n",
       "  </tbody>\n",
       "</table>\n",
       "</div>"
      ],
      "text/plain": [
       "      tconst titleType                   primaryTitle  \\\n",
       "0  tt0000009     movie                     Miss Jerry   \n",
       "1  tt0000147     movie  The Corbett-Fitzsimmons Fight   \n",
       "2  tt0000335     movie          Soldiers of the Cross   \n",
       "3  tt0000502     movie                       Bohemios   \n",
       "4  tt0000574     movie    The Story of the Kelly Gang   \n",
       "\n",
       "                   originalTitle  isAdult startYear endYear  runtimeMinutes  \\\n",
       "0                     Miss Jerry        0      1894      \\N            45.0   \n",
       "1  The Corbett-Fitzsimmons Fight        0      1897      \\N            20.0   \n",
       "2          Soldiers of the Cross        0      1900      \\N             NaN   \n",
       "3                       Bohemios        0      1905      \\N           100.0   \n",
       "4    The Story of the Kelly Gang        0      1906      \\N            70.0   \n",
       "\n",
       "                   genres  gross  averageRating  numVotes  \n",
       "0                 Romance    NaN            5.9       154  \n",
       "1  Documentary,News,Sport    NaN            5.2       356  \n",
       "2         Biography,Drama    NaN            6.1        41  \n",
       "3                      \\N    NaN            3.8         6  \n",
       "4   Biography,Crime,Drama    NaN            6.1       589  "
      ]
     },
     "execution_count": 92,
     "metadata": {},
     "output_type": "execute_result"
    }
   ],
   "source": [
    "movies_wr = movies.merge(title_ratings, on='tconst')\n",
    "movies_wr.head()"
   ]
  },
  {
   "cell_type": "code",
   "execution_count": 93,
   "metadata": {},
   "outputs": [
    {
     "data": {
      "text/plain": [
       "(364335, 991934, 1071882)"
      ]
     },
     "execution_count": 93,
     "metadata": {},
     "output_type": "execute_result"
    }
   ],
   "source": [
    "# Checkeamos que no perdimos data en el join\n",
    "len(movies_wr), len(movies), len(title_ratings)"
   ]
  },
  {
   "cell_type": "code",
   "execution_count": 94,
   "metadata": {},
   "outputs": [],
   "source": [
    "# Perdimos un monton de datos!!!!!!\n",
    "# Ademas podemos ver que hay peliculas que tienen rating pero que no figuran en title_basics\n",
    "# por ahora no hacemos nada con eso...\n",
    "\n",
    "movies_wr = movies.merge(title_ratings, on='tconst', how='left')"
   ]
  },
  {
   "cell_type": "code",
   "execution_count": 95,
   "metadata": {},
   "outputs": [
    {
     "data": {
      "text/plain": [
       "(991934, 991934, 1071882)"
      ]
     },
     "execution_count": 95,
     "metadata": {},
     "output_type": "execute_result"
    }
   ],
   "source": [
    "len(movies_wr), len(movies), len(title_ratings)"
   ]
  },
  {
   "cell_type": "code",
   "execution_count": 96,
   "metadata": {},
   "outputs": [],
   "source": [
    "movies = movies_wr"
   ]
  },
  {
   "attachments": {
    "image.png": {
     "image/png": "[encoded data removed]"
    }
   },
   "cell_type": "markdown",
   "metadata": {},
   "source": [
    "## Volviendo a donde estabamos...\n",
    "![image.png](attachment:image.png)"
   ]
  },
  {
   "cell_type": "code",
   "execution_count": 97,
   "metadata": {},
   "outputs": [
    {
     "data": {
      "text/html": [
       "<div>\n",
       "<style scoped>\n",
       "    .dataframe tbody tr th:only-of-type {\n",
       "        vertical-align: middle;\n",
       "    }\n",
       "\n",
       "    .dataframe tbody tr th {\n",
       "        vertical-align: top;\n",
       "    }\n",
       "\n",
       "    .dataframe thead th {\n",
       "        text-align: right;\n",
       "    }\n",
       "</style>\n",
       "<table border=\"1\" class=\"dataframe\">\n",
       "  <thead>\n",
       "    <tr style=\"text-align: right;\">\n",
       "      <th></th>\n",
       "      <th>tconst</th>\n",
       "      <th>titleType</th>\n",
       "      <th>primaryTitle</th>\n",
       "      <th>originalTitle</th>\n",
       "      <th>isAdult</th>\n",
       "      <th>startYear</th>\n",
       "      <th>endYear</th>\n",
       "      <th>runtimeMinutes</th>\n",
       "      <th>genres</th>\n",
       "      <th>gross</th>\n",
       "      <th>averageRating</th>\n",
       "      <th>numVotes</th>\n",
       "    </tr>\n",
       "  </thead>\n",
       "  <tbody>\n",
       "    <tr>\n",
       "      <th>278509</th>\n",
       "      <td>tt0448424</td>\n",
       "      <td>tvMovie</td>\n",
       "      <td>The Heart in the Well</td>\n",
       "      <td>Il cuore nel pozzo</td>\n",
       "      <td>0</td>\n",
       "      <td>2005</td>\n",
       "      <td>\\N</td>\n",
       "      <td>200.0</td>\n",
       "      <td>Drama,War</td>\n",
       "      <td>NaN</td>\n",
       "      <td>3.2</td>\n",
       "      <td>177.0</td>\n",
       "    </tr>\n",
       "    <tr>\n",
       "      <th>857759</th>\n",
       "      <td>tt6837082</td>\n",
       "      <td>video</td>\n",
       "      <td>Anally Corrupted</td>\n",
       "      <td>Anally Corrupted</td>\n",
       "      <td>1</td>\n",
       "      <td>2016</td>\n",
       "      <td>\\N</td>\n",
       "      <td>256.0</td>\n",
       "      <td>Adult</td>\n",
       "      <td>NaN</td>\n",
       "      <td>NaN</td>\n",
       "      <td>NaN</td>\n",
       "    </tr>\n",
       "    <tr>\n",
       "      <th>56369</th>\n",
       "      <td>tt0075271</td>\n",
       "      <td>tvMovie</td>\n",
       "      <td>The Story of David</td>\n",
       "      <td>The Story of David</td>\n",
       "      <td>0</td>\n",
       "      <td>1976</td>\n",
       "      <td>\\N</td>\n",
       "      <td>191.0</td>\n",
       "      <td>Drama</td>\n",
       "      <td>NaN</td>\n",
       "      <td>6.3</td>\n",
       "      <td>133.0</td>\n",
       "    </tr>\n",
       "    <tr>\n",
       "      <th>294936</th>\n",
       "      <td>tt0480683</td>\n",
       "      <td>video</td>\n",
       "      <td>Freaky Women</td>\n",
       "      <td>Freaky Women</td>\n",
       "      <td>1</td>\n",
       "      <td>2005</td>\n",
       "      <td>\\N</td>\n",
       "      <td>240.0</td>\n",
       "      <td>Adult</td>\n",
       "      <td>NaN</td>\n",
       "      <td>NaN</td>\n",
       "      <td>NaN</td>\n",
       "    </tr>\n",
       "    <tr>\n",
       "      <th>564237</th>\n",
       "      <td>tt1795373</td>\n",
       "      <td>movie</td>\n",
       "      <td>National Theatre Live: The Cherry Orchard</td>\n",
       "      <td>National Theatre Live: The Cherry Orchard</td>\n",
       "      <td>0</td>\n",
       "      <td>2011</td>\n",
       "      <td>\\N</td>\n",
       "      <td>185.0</td>\n",
       "      <td>Drama</td>\n",
       "      <td>NaN</td>\n",
       "      <td>8.1</td>\n",
       "      <td>22.0</td>\n",
       "    </tr>\n",
       "    <tr>\n",
       "      <th>885456</th>\n",
       "      <td>tt7395478</td>\n",
       "      <td>video</td>\n",
       "      <td>'Oppai dakenara sawatte mo i yo' kibishi sugir...</td>\n",
       "      <td>'Oppai dakenara sawatte mo i yo' kibishi sugir...</td>\n",
       "      <td>1</td>\n",
       "      <td>2017</td>\n",
       "      <td>\\N</td>\n",
       "      <td>241.0</td>\n",
       "      <td>Adult</td>\n",
       "      <td>NaN</td>\n",
       "      <td>NaN</td>\n",
       "      <td>NaN</td>\n",
       "    </tr>\n",
       "    <tr>\n",
       "      <th>880161</th>\n",
       "      <td>tt7281714</td>\n",
       "      <td>movie</td>\n",
       "      <td>Beyond the Sphere of Reasonable Doubt</td>\n",
       "      <td>Beyond the Sphere of Reasonable Doubt</td>\n",
       "      <td>0</td>\n",
       "      <td>2018</td>\n",
       "      <td>\\N</td>\n",
       "      <td>240.0</td>\n",
       "      <td>Adventure,Comedy</td>\n",
       "      <td>NaN</td>\n",
       "      <td>NaN</td>\n",
       "      <td>NaN</td>\n",
       "    </tr>\n",
       "    <tr>\n",
       "      <th>332304</th>\n",
       "      <td>tt0972553</td>\n",
       "      <td>tvMovie</td>\n",
       "      <td>Eravamo solo mille</td>\n",
       "      <td>Eravamo solo mille</td>\n",
       "      <td>0</td>\n",
       "      <td>2007</td>\n",
       "      <td>\\N</td>\n",
       "      <td>200.0</td>\n",
       "      <td>Drama</td>\n",
       "      <td>NaN</td>\n",
       "      <td>7.1</td>\n",
       "      <td>7.0</td>\n",
       "    </tr>\n",
       "    <tr>\n",
       "      <th>680932</th>\n",
       "      <td>tt3355944</td>\n",
       "      <td>movie</td>\n",
       "      <td>Ghosts of the Road</td>\n",
       "      <td>Fantasmas de la ruta</td>\n",
       "      <td>0</td>\n",
       "      <td>2013</td>\n",
       "      <td>\\N</td>\n",
       "      <td>210.0</td>\n",
       "      <td>Drama</td>\n",
       "      <td>NaN</td>\n",
       "      <td>6.9</td>\n",
       "      <td>19.0</td>\n",
       "    </tr>\n",
       "    <tr>\n",
       "      <th>663197</th>\n",
       "      <td>tt3036176</td>\n",
       "      <td>video</td>\n",
       "      <td>Anal Buffet 8</td>\n",
       "      <td>Anal Buffet 8</td>\n",
       "      <td>1</td>\n",
       "      <td>2013</td>\n",
       "      <td>\\N</td>\n",
       "      <td>196.0</td>\n",
       "      <td>Adult</td>\n",
       "      <td>NaN</td>\n",
       "      <td>NaN</td>\n",
       "      <td>NaN</td>\n",
       "    </tr>\n",
       "  </tbody>\n",
       "</table>\n",
       "</div>"
      ],
      "text/plain": [
       "           tconst titleType  \\\n",
       "278509  tt0448424   tvMovie   \n",
       "857759  tt6837082     video   \n",
       "56369   tt0075271   tvMovie   \n",
       "294936  tt0480683     video   \n",
       "564237  tt1795373     movie   \n",
       "885456  tt7395478     video   \n",
       "880161  tt7281714     movie   \n",
       "332304  tt0972553   tvMovie   \n",
       "680932  tt3355944     movie   \n",
       "663197  tt3036176     video   \n",
       "\n",
       "                                             primaryTitle  \\\n",
       "278509                              The Heart in the Well   \n",
       "857759                                   Anally Corrupted   \n",
       "56369                                  The Story of David   \n",
       "294936                                       Freaky Women   \n",
       "564237          National Theatre Live: The Cherry Orchard   \n",
       "885456  'Oppai dakenara sawatte mo i yo' kibishi sugir...   \n",
       "880161              Beyond the Sphere of Reasonable Doubt   \n",
       "332304                                 Eravamo solo mille   \n",
       "680932                                 Ghosts of the Road   \n",
       "663197                                      Anal Buffet 8   \n",
       "\n",
       "                                            originalTitle  isAdult startYear  \\\n",
       "278509                                 Il cuore nel pozzo        0      2005   \n",
       "857759                                   Anally Corrupted        1      2016   \n",
       "56369                                  The Story of David        0      1976   \n",
       "294936                                       Freaky Women        1      2005   \n",
       "564237          National Theatre Live: The Cherry Orchard        0      2011   \n",
       "885456  'Oppai dakenara sawatte mo i yo' kibishi sugir...        1      2017   \n",
       "880161              Beyond the Sphere of Reasonable Doubt        0      2018   \n",
       "332304                                 Eravamo solo mille        0      2007   \n",
       "680932                               Fantasmas de la ruta        0      2013   \n",
       "663197                                      Anal Buffet 8        1      2013   \n",
       "\n",
       "       endYear  runtimeMinutes            genres  gross  averageRating  \\\n",
       "278509      \\N           200.0         Drama,War    NaN            3.2   \n",
       "857759      \\N           256.0             Adult    NaN            NaN   \n",
       "56369       \\N           191.0             Drama    NaN            6.3   \n",
       "294936      \\N           240.0             Adult    NaN            NaN   \n",
       "564237      \\N           185.0             Drama    NaN            8.1   \n",
       "885456      \\N           241.0             Adult    NaN            NaN   \n",
       "880161      \\N           240.0  Adventure,Comedy    NaN            NaN   \n",
       "332304      \\N           200.0             Drama    NaN            7.1   \n",
       "680932      \\N           210.0             Drama    NaN            6.9   \n",
       "663197      \\N           196.0             Adult    NaN            NaN   \n",
       "\n",
       "        numVotes  \n",
       "278509     177.0  \n",
       "857759       NaN  \n",
       "56369      133.0  \n",
       "294936       NaN  \n",
       "564237      22.0  \n",
       "885456       NaN  \n",
       "880161       NaN  \n",
       "332304       7.0  \n",
       "680932      19.0  \n",
       "663197       NaN  "
      ]
     },
     "execution_count": 97,
     "metadata": {},
     "output_type": "execute_result"
    }
   ],
   "source": [
    "movies[movies.runtimeMinutes > 3 * 60].sample(10)"
   ]
  },
  {
   "cell_type": "markdown",
   "metadata": {},
   "source": [
    "**Parece haber mucho de adultos**"
   ]
  },
  {
   "cell_type": "code",
   "execution_count": 98,
   "metadata": {},
   "outputs": [
    {
     "data": {
      "text/plain": [
       "(9066, 4064, 0.4482682550187514)"
      ]
     },
     "execution_count": 98,
     "metadata": {},
     "output_type": "execute_result"
    }
   ],
   "source": [
    "n_long_adult = movies[movies.runtimeMinutes > 3 * 60].genres.apply(lambda x: 'Adult' in x).sum()\n",
    "n_long = (movies.runtimeMinutes > 3 * 60).sum()\n",
    "\n",
    "n_long, n_long_adult, n_long_adult / n_long"
   ]
  },
  {
   "cell_type": "markdown",
   "metadata": {},
   "source": [
    "**Parece que no tienen data de gross**"
   ]
  },
  {
   "cell_type": "code",
   "execution_count": 99,
   "metadata": {},
   "outputs": [
    {
     "data": {
      "text/plain": [
       "0.9962497242444297"
      ]
     },
     "execution_count": 99,
     "metadata": {},
     "output_type": "execute_result"
    }
   ],
   "source": [
    "movies[movies.runtimeMinutes > 3 * 60].gross.isna().sum() / n_long"
   ]
  },
  {
   "cell_type": "code",
   "execution_count": 100,
   "metadata": {},
   "outputs": [
    {
     "data": {
      "text/plain": [
       "0.9847324372305352"
      ]
     },
     "execution_count": 100,
     "metadata": {},
     "output_type": "execute_result"
    }
   ],
   "source": [
    "# idem para 2 horas\n",
    "movies[movies.runtimeMinutes > 2 * 60].gross.isna().sum() / (movies.runtimeMinutes > 2 * 60).sum()"
   ]
  },
  {
   "cell_type": "code",
   "execution_count": 101,
   "metadata": {},
   "outputs": [],
   "source": [
    "movies = movies[movies.runtimeMinutes <= 2 * 60].copy()"
   ]
  },
  {
   "cell_type": "code",
   "execution_count": 102,
   "metadata": {},
   "outputs": [
    {
     "data": {
      "image/png": "[encoded data removed]",
      "text/plain": [
       "<Figure size 432x288 with 1 Axes>"
      ]
     },
     "metadata": {
      "needs_background": "light"
     },
     "output_type": "display_data"
    }
   ],
   "source": [
    "movies.runtimeMinutes.hist(bins=30);"
   ]
  },
  {
   "cell_type": "markdown",
   "metadata": {},
   "source": [
    "Sigue habiendo duraciones muy cortas!!! \n",
    "\n",
    "Veamos a ver si alguna otra columna nos da una pista"
   ]
  },
  {
   "cell_type": "markdown",
   "metadata": {},
   "source": [
    "## Genres"
   ]
  },
  {
   "cell_type": "code",
   "execution_count": 103,
   "metadata": {},
   "outputs": [],
   "source": [
    "from itertools import chain\n",
    "from collections import Counter\n",
    "\n",
    "def parse_genres(genres):\n",
    "    if isinstance(genres, float) or genres == r'\\N': return ['no-genre']\n",
    "    else: return genres.split(',')\n",
    "    \n",
    "\n",
    "movies['genres'] = movies.genres.apply(parse_genres)"
   ]
  },
  {
   "cell_type": "code",
   "execution_count": 104,
   "metadata": {},
   "outputs": [
    {
     "data": {
      "text/plain": [
       "Counter({'Romance': 34458,\n",
       "         'Documentary': 137983,\n",
       "         'News': 5521,\n",
       "         'Sport': 8305,\n",
       "         'no-genre': 29089,\n",
       "         'Biography': 17905,\n",
       "         'Crime': 28723,\n",
       "         'Drama': 157279,\n",
       "         'Adventure': 23924,\n",
       "         'Fantasy': 12931,\n",
       "         'Family': 20096,\n",
       "         'War': 7212,\n",
       "         'History': 14041,\n",
       "         'Western': 5266,\n",
       "         'Thriller': 25848,\n",
       "         'Comedy': 101248,\n",
       "         'Mystery': 13509,\n",
       "         'Horror': 25005,\n",
       "         'Action': 32379,\n",
       "         'Music': 70732,\n",
       "         'Sci-Fi': 9936,\n",
       "         'Animation': 13507,\n",
       "         'Musical': 8844,\n",
       "         'Film-Noir': 762,\n",
       "         'Adult': 44273,\n",
       "         'Reality-TV': 1480,\n",
       "         'Short': 98804,\n",
       "         'Talk-Show': 1736,\n",
       "         'Game-Show': 364})"
      ]
     },
     "execution_count": 104,
     "metadata": {},
     "output_type": "execute_result"
    }
   ],
   "source": [
    "Counter(chain(*movies.genres.tolist()))"
   ]
  },
  {
   "cell_type": "markdown",
   "metadata": {},
   "source": [
    "**Hay varios Short, no debería!**\n",
    "\n",
    "A ver cual es la duracion..."
   ]
  },
  {
   "cell_type": "code",
   "execution_count": 105,
   "metadata": {},
   "outputs": [
    {
     "data": {
      "image/png": "[encoded data removed]",
      "text/plain": [
       "<Figure size 432x288 with 1 Axes>"
      ]
     },
     "metadata": {
      "needs_background": "light"
     },
     "output_type": "display_data"
    }
   ],
   "source": [
    "movies[movies.genres.apply(lambda x: 'Short' in x)].runtimeMinutes.hist(bins=30);"
   ]
  },
  {
   "cell_type": "markdown",
   "metadata": {},
   "source": [
    "🚀"
   ]
  },
  {
   "cell_type": "code",
   "execution_count": 106,
   "metadata": {},
   "outputs": [],
   "source": [
    "movies = movies[movies.genres.apply(lambda x: 'Short' not in x)]"
   ]
  },
  {
   "cell_type": "code",
   "execution_count": 107,
   "metadata": {},
   "outputs": [
    {
     "data": {
      "image/png": "[encoded data removed]",
      "text/plain": [
       "<Figure size 432x288 with 1 Axes>"
      ]
     },
     "metadata": {
      "needs_background": "light"
     },
     "output_type": "display_data"
    }
   ],
   "source": [
    "movies.runtimeMinutes.hist(bins=30);"
   ]
  },
  {
   "cell_type": "code",
   "execution_count": 108,
   "metadata": {},
   "outputs": [
    {
     "data": {
      "text/plain": [
       "movie        46335\n",
       "tvMovie      30296\n",
       "video        18805\n",
       "tvSpecial     3207\n",
       "Name: titleType, dtype: int64"
      ]
     },
     "execution_count": 108,
     "metadata": {},
     "output_type": "execute_result"
    }
   ],
   "source": [
    "movies[movies.runtimeMinutes < 60].titleType.value_counts()"
   ]
  },
  {
   "cell_type": "markdown",
   "metadata": {},
   "source": [
    "Chau video, tvSpecial y tvMovie"
   ]
  },
  {
   "cell_type": "code",
   "execution_count": 109,
   "metadata": {},
   "outputs": [],
   "source": [
    "movies = movies[~movies.titleType.isin(['video', 'tvSpecial', 'tvMovie'])]"
   ]
  },
  {
   "cell_type": "code",
   "execution_count": 110,
   "metadata": {},
   "outputs": [
    {
     "data": {
      "image/png": "[encoded data removed]",
      "text/plain": [
       "<Figure size 432x288 with 1 Axes>"
      ]
     },
     "metadata": {
      "needs_background": "light"
     },
     "output_type": "display_data"
    }
   ],
   "source": [
    "movies.runtimeMinutes.hist(bins=30);"
   ]
  },
  {
   "cell_type": "markdown",
   "metadata": {},
   "source": [
    "## [Cuanto dura un largometraje??](https://www.google.com/search?q=cuanto+dura+un+largometraje&oq=cuanto+dura+un+largometraje&aqs=chrome..69i57.3779j0j7&sourceid=chrome&ie=UTF-8)"
   ]
  },
  {
   "cell_type": "code",
   "execution_count": 111,
   "metadata": {},
   "outputs": [],
   "source": [
    "movies = movies[movies.runtimeMinutes >= 60]"
   ]
  },
  {
   "cell_type": "markdown",
   "metadata": {},
   "source": [
    "Se te ocurre algun otro check para hacer??"
   ]
  }
 ],
 "metadata": {
  "kernelspec": {
   "display_name": "Python 3",
   "language": "python",
   "name": "python3"
  },
  "language_info": {
   "codemirror_mode": {
    "name": "ipython",
    "version": 3
   },
   "file_extension": ".py",
   "mimetype": "text/x-python",
   "name": "python",
   "nbconvert_exporter": "python",
   "pygments_lexer": "ipython3",
   "version": "3.8.5"
  }
 },
 "nbformat": 4,
 "nbformat_minor": 4
}
